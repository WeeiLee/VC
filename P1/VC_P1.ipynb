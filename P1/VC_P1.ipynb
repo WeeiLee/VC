{
 "cells": [
  {
   "cell_type": "markdown",
   "metadata": {},
   "source": [
    "Paquetes necesarios"
   ]
  },
  {
   "cell_type": "code",
   "execution_count": 1,
   "metadata": {},
   "outputs": [],
   "source": [
    "import cv2  \n",
    "import numpy as np\n",
    "import matplotlib.pyplot as plt"
   ]
  },
  {
   "cell_type": "markdown",
   "metadata": {},
   "source": [
    "TAREA 1: Crea una imagen, p.e. de 800x800 píxeles, con la textura del tablero de ajedrez"
   ]
  },
  {
   "cell_type": "code",
   "execution_count": 2,
   "metadata": {},
   "outputs": [
    {
     "data": {
      "image/png": "[encoded data removed]",
      "text/plain": [
       "<Figure size 640x480 with 1 Axes>"
      ]
     },
     "metadata": {},
     "output_type": "display_data"
    }
   ],
   "source": [
    "# TAREA 1\n",
    "chess_height = 800\n",
    "chess_width = 800\n",
    "cell_height = chess_height // 8\n",
    "cell_width = chess_width // 8\n",
    "\n",
    "chess_table=np.zeros((chess_height,chess_width,1), dtype = np.uint8)\n",
    "# Se crea un tablero negro\n",
    "\n",
    "for i in range(8):\n",
    "    for j in range(8):\n",
    "        if (i+j)%2==0:\n",
    "            chess_table[i*cell_height:(i+1)*cell_height,j*cell_width:(j+1)*cell_width]=255\n",
    "# Se pintan las casillas blancas, que son las que la suma de fila y columna es par\n",
    "\n",
    "plt.imshow(chess_table, cmap='gray') #Te animo a probar a eliminar la especificación del mapa de color\n",
    "plt.show()"
   ]
  },
  {
   "cell_type": "markdown",
   "metadata": {},
   "source": [
    "TAREA 2: Crear una imagen estilo Mondrian con las funciones de dibujo de OpenCV."
   ]
  },
  {
   "cell_type": "code",
   "execution_count": 3,
   "metadata": {},
   "outputs": [
    {
     "data": {
      "image/png": "[encoded data removed]",
      "text/plain": [
       "<Figure size 640x480 with 1 Axes>"
      ]
     },
     "metadata": {},
     "output_type": "display_data"
    }
   ],
   "source": [
    "ancho = 300\n",
    "alto = 200\n",
    "color_img = np.full((alto,ancho,3),255, dtype = np.uint8)\n",
    "colors=[(227, 0, 0),(0, 0, 227),(255, 221, 0),(255, 255, 255),(255, 255, 255)]\n",
    "\n",
    "num_vlines = np.random.randint(3, 7)\n",
    "num_hlines = np.random.randint(3, 6)\n",
    "\n",
    "vlines = sorted(np.random.randint(30, ancho-30, num_vlines))\n",
    "hlines = sorted(np.random.randint(20, alto-20, num_hlines))\n",
    "\n",
    "vlines = [0] + vlines + [ancho]\n",
    "hlines = [0] + hlines + [alto]\n",
    "\n",
    "for i in range(len(hlines)-1):\n",
    "    for j in range(len(vlines)-1):\n",
    "        x_start, x_end = vlines[j], vlines[j+1]\n",
    "        y_start, y_end = hlines[i], hlines[i+1]\n",
    "        color = colors[np.random.randint(0, len(colors))]\n",
    "        cv2.rectangle(color_img, (x_start, y_start), (x_end, y_end), color, -1)\n",
    "\n",
    "for x in vlines[1:-1]:\n",
    "    cv2.line(color_img, (x, 0), (x, alto), (0,0,0), 4)\n",
    "for y in hlines[1:-1]:\n",
    "    cv2.line(color_img, (0, y), (ancho, y), (0,0,0), 4)\n",
    "\n",
    "cv2.imwrite('imagen.jpg', color_img)\n",
    "plt.imshow(color_img)\n",
    "plt.show()\n"
   ]
  },
  {
   "cell_type": "markdown",
   "metadata": {},
   "source": [
    "TAREA 3: Modifica de forma libre los valores de un plano de la imagen."
   ]
  },
  {
   "cell_type": "code",
   "execution_count": 4,
   "metadata": {},
   "outputs": [],
   "source": [
    "vid = cv2.VideoCapture(0)\n",
    "  \n",
    "while(True):      \n",
    "    # fotograma a fotograma\n",
    "    ret, frame = vid.read()\n",
    "\n",
    "    if ret:\n",
    "        #Separamos canales\n",
    "        b = frame[:,:,0]\n",
    "        g = frame[:,:,1]\n",
    "        r = frame[:,:,2]\n",
    "\n",
    "        factor = 4\n",
    "        # factor = 1 -> pantalla completa\n",
    "        # factor = 2 -> media pantalla\n",
    "\n",
    "        for i in range(b.shape[0]//factor):\n",
    "            for j in range(b.shape[1]//factor):\n",
    "                # Centra el filtro\n",
    "                x_pos = int(b.shape[0]//factor*(0.5*(factor-2)+0.5)+i)\n",
    "                y_pos = int(b.shape[1]//factor*(0.5*(factor-2)+0.5)+j)\n",
    "                if b[x_pos,y_pos] < 127:\n",
    "                    b[x_pos,y_pos] = 0\n",
    "                    g[x_pos,y_pos] = 0\n",
    "                    r[x_pos,y_pos] = 0\n",
    "                else:\n",
    "                    b[x_pos,y_pos] = 255\n",
    "                    g[x_pos,y_pos] = 255\n",
    "                    r[x_pos,y_pos] = 255\n",
    "\n",
    "        h, w, c = frame.shape\n",
    "\n",
    "        #Concateamos en horizontal los tres planos del fotograma\n",
    "        #Modificamos de forma ibre los valores de un plano de la imágen\n",
    "                \n",
    "        collage = np.hstack((r, g, b))\n",
    "    \n",
    "        # Muestra fotograma redimensionando a la mitad para que quepa en pantalla\n",
    "        cv2.imshow('RGB', cv2.resize(collage, (int(w*1.5),int(h/2)),cv2.INTER_NEAREST))\n",
    "    \n",
    "    # Detenemos pulsado ESC\n",
    "    if cv2.waitKey(20) == 27:\n",
    "        break\n",
    "  \n",
    "# Libera el objeto de captura\n",
    "vid.release()\n",
    "# Destruye ventanas\n",
    "cv2.destroyAllWindows()"
   ]
  },
  {
   "cell_type": "markdown",
   "metadata": {},
   "source": [
    "Evento de ratón para mostrar el valor RGB del píxel"
   ]
  },
  {
   "cell_type": "code",
   "execution_count": 5,
   "metadata": {},
   "outputs": [],
   "source": [
    "# Función que trata eventos de ratón \n",
    "def mouse_events(event, x, y, flags, params):\n",
    "    global px, py, R, G, B\n",
    "    px = -1\n",
    "    # Movimiento del puntero     \n",
    "    if event==cv2.EVENT_MOUSEMOVE:\n",
    "        #Valores del píxel, desde la webcam no es BGR\n",
    "        B = frame[y, x, 0]\n",
    "        G = frame[y, x, 1]\n",
    "        R = frame[y, x, 2]  \n",
    "        # Almacena valores del evento\n",
    "        px = x\n",
    "        py = y\n",
    "\n",
    "     \n",
    "  "
   ]
  },
  {
   "cell_type": "markdown",
   "metadata": {},
   "source": [
    "TAREA 4:\n",
    "Pintar círculos en las posiciones del píxel más claro y oscuro de la imagen \n",
    "¿Si quisieras hacerlo sobre la zona 8x8 más clara/oscura?"
   ]
  },
  {
   "cell_type": "code",
   "execution_count": 6,
   "metadata": {},
   "outputs": [],
   "source": [
    "vid = cv2.VideoCapture(0)\n",
    "\n",
    "# Tipografía para mostrar texto\n",
    "font = cv2.FONT_HERSHEY_SIMPLEX\n",
    "  \n",
    "lanzado = 0 #bandera para primer fotograma\n",
    "px = -1\n",
    "\n",
    "\n",
    "def darkest_and_brightest_8x8_zone(frame: np.ndarray):\n",
    "    H, W, C = frame.shape\n",
    "    frame_cropped = frame.copy()\n",
    "\n",
    "    # Conseguimos varios bloques de 8x8\n",
    "    blocks = frame_cropped.reshape(H//8, 8, W//8, 8, C)\n",
    "    \n",
    "    # Calcular el promedio en cada bloque\n",
    "    # axis 1 = alto, 3 = ancho, 4 = canales\n",
    "    block_means = blocks.mean(axis=(1,3,4))\n",
    "    \n",
    "    # Se consigue el menor y mayor valor\n",
    "    darkest_idx = np.unravel_index(np.argmin(block_means), block_means.shape)\n",
    "    brightest_idx = np.unravel_index(np.argmax(block_means), block_means.shape)\n",
    "    \n",
    "    # Como se dividió entre 8 para conseguir los bloques, se multiplica por 8\n",
    "    # y se suma 4 para conseguir el pixel central del bloque\n",
    "    darkest_pixel = (darkest_idx[1]*8 + 4, darkest_idx[0]*8 + 4)\n",
    "    brightest_pixel = (brightest_idx[1]*8 + 4, brightest_idx[0]*8 + 4)\n",
    "    \n",
    "    return darkest_pixel, brightest_pixel\n",
    "\n",
    "while(True):      \n",
    "    # fotograma a fotograma\n",
    "    ret, frame = vid.read()\n",
    "\n",
    "    if ret: \n",
    "        # Activa el manejador en el primer fotograma\n",
    "        if lanzado == 0:\n",
    "            # Muestra fotograma\n",
    "            cv2.imshow('Cam', frame)   \n",
    "            # Define el nombre del manejador del evento\n",
    "            cv2.setMouseCallback('Cam', mouse_events)\n",
    "            lanzado = 1\n",
    "\n",
    "        # Muestra valores RGB intentando centrar en el puntero\n",
    "        if px > -1:\n",
    "            cv2.putText(frame, '{}'.format(R), (px-45,py-5), font, 0.5, (0, 0, 255), 1)\n",
    "            cv2.putText(frame, '    {}'.format(G), (px-45,py-5), font, 0.5, (0, 255, 0), 1)\n",
    "            cv2.putText(frame, '        {}'.format(B), (px-45,py-5), font, 0.5, (255, 0, 0), 1)\n",
    "            \n",
    "        darkest_pixel, brightest_pixel = darkest_and_brightest_8x8_zone(frame)\n",
    "        cv2.circle(frame, darkest_pixel, 5, (255, 0, 0), -1)\n",
    "        cv2.circle(frame, brightest_pixel, 5, (0, 255, 0), -1)\n",
    "\n",
    "        cv2.imshow('Cam', frame)   \n",
    "        \n",
    "    # Detenemos pulsado ESC\n",
    "    if cv2.waitKey(20) == 27:\n",
    "        break\n",
    "  \n",
    "# Libera el objeto de captura\n",
    "vid.release()\n",
    "# Destruye ventanas\n",
    "cv2.destroyAllWindows()"
   ]
  },
  {
   "cell_type": "markdown",
   "metadata": {},
   "source": [
    "TAREA: Llevar a cabo una propuesta propia de pop art"
   ]
  },
  {
   "cell_type": "code",
   "execution_count": 7,
   "metadata": {},
   "outputs": [],
   "source": [
    "import cv2\n",
    "import numpy as np\n",
    "\n",
    "vid = cv2.VideoCapture(0)\n",
    "\n",
    "ncells = 10\n",
    "off = int(ncells/2)\n",
    "\n",
    "def getPopArtColor(r, g, b, x, y, x_size, y_size):\n",
    "    if x < x_size//2:\n",
    "        if y < y_size//2:\n",
    "            return (int(r[y, x]), int(g[y, x]), int(b[y, x]))\n",
    "        else:\n",
    "            return (255-int(b[y, x]), int(r[y, x]), int(g[y, x]))\n",
    "    else:\n",
    "        if y < y_size//2:\n",
    "            return (int(g[y, x]), 255-int(b[y, x]), int(r[y, x]))\n",
    "        else:\n",
    "            return (int(g[y, x]), int(b[y, x]), 255-int(r[y, x]))\n",
    "\n",
    "\n",
    "while True:      \n",
    "    ret, frame = vid.read()\n",
    "    if ret:\n",
    "        h, w, c = frame.shape\n",
    "        down_frame = cv2.resize(frame, (w//ncells, h//ncells), cv2.INTER_NEAREST)\n",
    "        h2, w2, c2 = down_frame.shape\n",
    "\n",
    "        r = down_frame[:,:,0]\n",
    "        g = down_frame[:,:,1]\n",
    "        b = down_frame[:,:,2]\n",
    "\n",
    "        colored_up_frame = np.zeros((h2*ncells, w2*ncells, 3), dtype=np.uint8)\n",
    "\n",
    "        for y in range(h2):\n",
    "            for x in range(w2):\n",
    "                cx = x * ncells + off\n",
    "                cy = y * ncells + off\n",
    "                scale = int(int(r[y, x]) + int(g[y, x]) + int(b[y, x])) // 3\n",
    "                color = getPopArtColor(r, g, b, x, y, w2, h2)\n",
    "                cv2.line(colored_up_frame, (cx-off, cy-off), (cx+off, cy+off), color, 3)\n",
    "\n",
    "        cv2.imshow('Cam', colored_up_frame)\n",
    "\n",
    "    if cv2.waitKey(20) == 27:\n",
    "        break\n",
    "\n",
    "vid.release()\n",
    "cv2.destroyAllWindows()\n"
   ]
  }
 ],
 "metadata": {
  "kernelspec": {
   "display_name": "VC_P1",
   "language": "python",
   "name": "python3"
  },
  "language_info": {
   "codemirror_mode": {
    "name": "ipython",
    "version": 3
   },
   "file_extension": ".py",
   "mimetype": "text/x-python",
   "name": "python",
   "nbconvert_exporter": "python",
   "pygments_lexer": "ipython3",
   "version": "3.11.13"
  },
  "orig_nbformat": 4
 },
 "nbformat": 4,
 "nbformat_minor": 2
}
